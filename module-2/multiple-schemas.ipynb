{
 "cells": [
  {
   "cell_type": "markdown",
   "metadata": {},
   "source": [
    "Input/Output schema"
   ]
  },
  {
   "cell_type": "code",
   "execution_count": 13,
   "metadata": {},
   "outputs": [
    {
     "data": {
      "text/plain": [
       "{'question': 'This is the question',\n",
       " 'answer': 'is done take it',\n",
       " 'notes': '........ this is the notes'}"
      ]
     },
     "execution_count": 13,
     "metadata": {},
     "output_type": "execute_result"
    }
   ],
   "source": [
    "from typing_extensions import TypedDict\n",
    "from langgraph.graph import StateGraph, START, END\n",
    "\n",
    "class OverallState(TypedDict):\n",
    "    question:str\n",
    "    answer:str\n",
    "    notes:str\n",
    "\n",
    "def thinking_node(state:OverallState):\n",
    "    return ({\"answer\":\"lolllllllll\",\"notes\":\"........ this is the notes\"})\n",
    "\n",
    "\n",
    "def answer_node(state:OverallState):\n",
    "    return ({\"answer\":\"is done take it\"})\n",
    "\n",
    "builder  = StateGraph(OverallState)\n",
    "\n",
    "builder.add_node(\"thinking_node\", thinking_node)\n",
    "builder.add_node(\"answer_node\", answer_node)\n",
    "\n",
    "\n",
    "builder.add_edge(START, \"thinking_node\")\n",
    "builder.add_edge(\"thinking_node\",\"answer_node\" )\n",
    "builder.add_edge(\"answer_node\",END)\n",
    "\n",
    "graph = builder.compile()\n",
    "\n",
    "\n",
    "graph.invoke({\"question\":\"This is the question\"})\n",
    "\n"
   ]
  },
  {
   "cell_type": "code",
   "execution_count": 14,
   "metadata": {},
   "outputs": [
    {
     "data": {
      "text/plain": [
       "<langgraph.graph.state.StateGraph at 0x22760e0ffb0>"
      ]
     },
     "execution_count": 14,
     "metadata": {},
     "output_type": "execute_result"
    }
   ],
   "source": [
    "from typing_extensions import TypedDict\n",
    "\n",
    "class InputState(TypedDict):\n",
    "    question:str\n",
    "\n",
    "class OutputState(TypedDict):\n",
    "    answer:str\n",
    "\n",
    "class OverallState(TypedDict):\n",
    "    question:str\n",
    "    answer:str\n",
    "    notes:str\n",
    "\n",
    "def thinking_node(state:InputState):\n",
    "    return {\"answer\": \"bye\", \"notes\": \"... his is name is Lance\"}\n",
    "\n",
    "\n",
    "def answer_node(state:OverallState)->OutputState:\n",
    "    return {\"answer\": \"bye Lance\"}\n",
    "\n",
    "graph = StateGraph(OverallState, input=InputState, output=OutputState)\n",
    "\n",
    "graph.add_node(\"answer_node\", answer_node)\n",
    "graph.add_node(\"thinking_node\", thinking_node)\n",
    "graph.add_edge(START, \"thinking_node\")\n",
    "graph.add_edge(\"thinking_node\", \"answer_node\")\n",
    "graph.add_edge(\"answer_node\", END)"
   ]
  },
  {
   "cell_type": "code",
   "execution_count": 15,
   "metadata": {},
   "outputs": [
    {
     "data": {
      "text/plain": [
       "{'answer': 'bye Lance'}"
      ]
     },
     "execution_count": 15,
     "metadata": {},
     "output_type": "execute_result"
    }
   ],
   "source": [
    "graph = graph.compile()\n",
    "\n",
    "graph.invoke({\"question\":\"hi\"})"
   ]
  },
  {
   "cell_type": "code",
   "execution_count": null,
   "metadata": {},
   "outputs": [],
   "source": []
  }
 ],
 "metadata": {
  "kernelspec": {
   "display_name": "venv",
   "language": "python",
   "name": "python3"
  },
  "language_info": {
   "codemirror_mode": {
    "name": "ipython",
    "version": 3
   },
   "file_extension": ".py",
   "mimetype": "text/x-python",
   "name": "python",
   "nbconvert_exporter": "python",
   "pygments_lexer": "ipython3",
   "version": "3.12.7"
  }
 },
 "nbformat": 4,
 "nbformat_minor": 2
}
