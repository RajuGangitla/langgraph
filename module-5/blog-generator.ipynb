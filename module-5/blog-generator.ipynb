{
 "cells": [
  {
   "cell_type": "code",
   "execution_count": 195,
   "metadata": {},
   "outputs": [],
   "source": [
    "from typing_extensions import TypedDict\n",
    "\n",
    "class OverallState(TypedDict):\n",
    "    topic:str\n",
    "    title:str\n",
    "    content:str"
   ]
  },
  {
   "cell_type": "code",
   "execution_count": 196,
   "metadata": {},
   "outputs": [],
   "source": [
    "from langchain_ollama import ChatOllama\n",
    "\n",
    "model = ChatOllama(model=\"llama3.1:latest\", temperature=0)\n",
    "\n",
    "title_prompt = \"\"\"Generate a better title for the blog for the given topic \n",
    "        topic:\n",
    "        {topic}\n",
    "\"\"\"\n",
    "\n",
    "content_prompt = \"\"\"Generate a best content for the blog for the given topic\n",
    "        topic:\n",
    "        {topic}\n",
    "\"\"\""
   ]
  },
  {
   "cell_type": "code",
   "execution_count": 197,
   "metadata": {},
   "outputs": [],
   "source": [
    "from pydantic import BaseModel\n",
    "\n",
    "class Title(BaseModel):\n",
    "    title: str = \"Default Title\"\n",
    "\n",
    "class Content(BaseModel):\n",
    "    content: str = \"Default Content\""
   ]
  },
  {
   "cell_type": "code",
   "execution_count": 198,
   "metadata": {},
   "outputs": [],
   "source": [
    "def title_node(state: dict):\n",
    "    print(state, \"prompt\")\n",
    "    prompt = title_prompt.format(topic=state[\"topic\"])\n",
    "    response = model.with_structured_output(Title).invoke(prompt)\n",
    "    return {\"title\": response.title}  # Return with the key \"title\", not state[\"title\"]\n",
    "\n",
    "def content_node(state: dict):\n",
    "    prompt = content_prompt.format(topic=state[\"topic\"])\n",
    "    response = model.with_structured_output(Content).invoke(prompt)\n",
    "    print(prompt, \"prompt\")\n",
    "    return {\"content\": response.content}  # Return with the key \"content\", not state[\"content\"]\n"
   ]
  },
  {
   "cell_type": "code",
   "execution_count": 199,
   "metadata": {},
   "outputs": [
    {
     "data": {
      "image/png": "[encoded data removed]",
      "text/plain": [
       "<IPython.core.display.Image object>"
      ]
     },
     "metadata": {},
     "output_type": "display_data"
    }
   ],
   "source": [
    "from langgraph.graph import START, END, StateGraph\n",
    "from IPython.display import Image, display\n",
    "\n",
    "blog_generator = StateGraph(OverallState)\n",
    "\n",
    "blog_generator.add_node(\"title_node\", title_node)\n",
    "blog_generator.add_node(\"content_node\", content_node)\n",
    "\n",
    "blog_generator.add_edge(START, \"title_node\")\n",
    "blog_generator.add_edge(\"title_node\", \"content_node\")\n",
    "blog_generator.add_edge(\"content_node\", END)\n",
    "\n",
    "blog  = blog_generator.compile()\n",
    "display(Image(blog.get_graph(xray=True).draw_mermaid_png()))"
   ]
  },
  {
   "cell_type": "code",
   "execution_count": 200,
   "metadata": {},
   "outputs": [
    {
     "name": "stdout",
     "output_type": "stream",
     "text": [
      "{'topic': 'AI Agents', 'title': '', 'content': ''} prompt\n",
      "Generate a best content for the blog for the given topic\n",
      "        topic:\n",
      "        AI Agents\n",
      " prompt\n"
     ]
    },
    {
     "data": {
      "text/plain": [
       "{'topic': 'AI Agents',\n",
       " 'title': 'Exploring the Capabilities of AI Agents',\n",
       " 'content': 'AI agents are artificial intelligence systems designed to perform specific tasks on behalf of humans. They can be used in various applications, including customer service, data analysis, and decision-making.'}"
      ]
     },
     "execution_count": 200,
     "metadata": {},
     "output_type": "execute_result"
    }
   ],
   "source": [
    "blog.invoke({\n",
    "    \"topic\": \"AI Agents\",\n",
    "    \"title\": \"\",  # Initialize with empty strings\n",
    "    \"content\": \"\"\n",
    "})"
   ]
  }
 ],
 "metadata": {
  "kernelspec": {
   "display_name": "venv",
   "language": "python",
   "name": "python3"
  },
  "language_info": {
   "codemirror_mode": {
    "name": "ipython",
    "version": 3
   },
   "file_extension": ".py",
   "mimetype": "text/x-python",
   "name": "python",
   "nbconvert_exporter": "python",
   "pygments_lexer": "ipython3",
   "version": "3.12.7"
  }
 },
 "nbformat": 4,
 "nbformat_minor": 2
}
