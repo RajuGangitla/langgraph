{
 "cells": [
  {
   "cell_type": "code",
   "execution_count": 20,
   "metadata": {},
   "outputs": [],
   "source": [
    "from typing_extensions import TypedDict, Literal\n",
    "from pydantic import BaseModel, Field"
   ]
  },
  {
   "cell_type": "code",
   "execution_count": 21,
   "metadata": {},
   "outputs": [],
   "source": [
    "from langchain_ollama import ChatOllama\n",
    "from langchain_core.messages import SystemMessage, HumanMessage\n",
    "llm = ChatOllama(model=\"llama3.1:latest\", temperature=0)\n"
   ]
  },
  {
   "cell_type": "code",
   "execution_count": 22,
   "metadata": {},
   "outputs": [],
   "source": [
    "class Route(BaseModel):\n",
    "    type:Literal[\"support\", \"tech\", \"important\"] = Field(None, description=\"the next step in the routing process\")"
   ]
  },
  {
   "cell_type": "code",
   "execution_count": 23,
   "metadata": {},
   "outputs": [],
   "source": [
    "router = llm.with_structured_output(Route)"
   ]
  },
  {
   "cell_type": "code",
   "execution_count": 24,
   "metadata": {},
   "outputs": [],
   "source": [
    "class State(TypedDict):\n",
    "    input:str\n",
    "    output:str\n",
    "    decision:str"
   ]
  },
  {
   "cell_type": "code",
   "execution_count": 25,
   "metadata": {},
   "outputs": [],
   "source": [
    "def tech_team(state:State):\n",
    "    \"\"\"give reply from tech team\"\"\"\n",
    "    result = llm.invoke(state[\"input\"])\n",
    "    return {\"output\":result.content}"
   ]
  },
  {
   "cell_type": "code",
   "execution_count": 26,
   "metadata": {},
   "outputs": [],
   "source": [
    "def support_team(state:State):\n",
    "    \"\"\"give reply from support team\"\"\"\n",
    "    result = llm.invoke(state[\"input\"])\n",
    "    return {\"output\":result.content}"
   ]
  },
  {
   "cell_type": "code",
   "execution_count": 27,
   "metadata": {},
   "outputs": [],
   "source": [
    "def manager_team(state:State):\n",
    "    \"\"\"give reply from manager\"\"\"\n",
    "    result = llm.invoke(state[\"input\"])\n",
    "    return {\"output\":result.content}"
   ]
  },
  {
   "cell_type": "code",
   "execution_count": 28,
   "metadata": {},
   "outputs": [],
   "source": [
    "def llm_router(state:State):\n",
    "    \"\"\"Route the input to the appropriate node\"\"\"\n",
    "\n",
    "    decision = router.invoke(\n",
    "        [\n",
    "            SystemMessage(content=\"Route the input to tech , support or important based on the user request\"),\n",
    "            HumanMessage(content=state[\"input\"])\n",
    "        ]\n",
    "    )\n",
    "\n",
    "    return {\"decision\":decision.type}"
   ]
  },
  {
   "cell_type": "code",
   "execution_count": 29,
   "metadata": {},
   "outputs": [],
   "source": [
    "def conditional_edge(state:State):\n",
    "    if state['decision']== \"tech\":\n",
    "        return \"tech_team\"\n",
    "    if state['decision']== \"support\":\n",
    "        return \"support_team\"\n",
    "    if state['decision']== \"important\":\n",
    "        return \"manager_team\""
   ]
  },
  {
   "cell_type": "code",
   "execution_count": 30,
   "metadata": {},
   "outputs": [
    {
     "data": {
      "image/png": "[encoded data removed]",
      "text/plain": [
       "<IPython.core.display.Image object>"
      ]
     },
     "metadata": {},
     "output_type": "display_data"
    }
   ],
   "source": [
    "from langgraph.graph import START, END, StateGraph\n",
    "from IPython.display import Image, display\n",
    "\n",
    "email_agent = StateGraph(State)\n",
    "\n",
    "email_agent.add_node(\"tech_team\", tech_team)\n",
    "email_agent.add_node(\"support_team\", support_team)\n",
    "email_agent.add_node(\"manager_team\", manager_team)\n",
    "email_agent.add_node(\"llm_router\", llm_router)\n",
    "\n",
    "email_agent.add_edge(START, \"llm_router\")\n",
    "email_agent.add_conditional_edges(\"llm_router\",conditional_edge, {\"tech_team\":\"tech_team\",\"support_team\":\"support_team\", \"manager_team\":\"manager_team\" } )\n",
    "email_agent.add_edge(\"tech_team\", END)\n",
    "email_agent.add_edge(\"support_team\", END)\n",
    "email_agent.add_edge(\"manager_team\", END)\n",
    "\n",
    "email_agent = email_agent.compile()\n",
    "display(Image(email_agent.get_graph(xray=True).draw_mermaid_png()))\n"
   ]
  },
  {
   "cell_type": "code",
   "execution_count": null,
   "metadata": {},
   "outputs": [],
   "source": [
    "state = email_agent.invoke({\"input\":\"hi i am facing issue in ticket booking\"})\n",
    "state"
   ]
  }
 ],
 "metadata": {
  "kernelspec": {
   "display_name": "venv",
   "language": "python",
   "name": "python3"
  },
  "language_info": {
   "codemirror_mode": {
    "name": "ipython",
    "version": 3
   },
   "file_extension": ".py",
   "mimetype": "text/x-python",
   "name": "python",
   "nbconvert_exporter": "python",
   "pygments_lexer": "ipython3",
   "version": "3.12.7"
  }
 },
 "nbformat": 4,
 "nbformat_minor": 2
}
